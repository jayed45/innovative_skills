{
 "cells": [
  {
   "cell_type": "code",
   "execution_count": 1,
   "metadata": {},
   "outputs": [
    {
     "name": "stdout",
     "output_type": "stream",
     "text": [
      "Original DataFrame with missing values:\n",
      "      A    B    C    D\n",
      "0  1.0  NaN  1.0  NaN\n",
      "1  2.0  2.0  NaN  NaN\n",
      "2  NaN  3.0  NaN  NaN\n",
      "3  4.0  NaN  4.0  NaN\n",
      "4  5.0  5.0  5.0  5.0\n",
      "\n",
      "DataFrame after removing rows with any missing values:\n",
      "      A    B    C    D\n",
      "4  5.0  5.0  5.0  5.0\n",
      "\n",
      "DataFrame after removing columns with any missing values:\n",
      " Empty DataFrame\n",
      "Columns: []\n",
      "Index: [0, 1, 2, 3, 4]\n",
      "\n",
      "DataFrame after filling missing values with 0:\n",
      "      A    B    C    D\n",
      "0  1.0  0.0  1.0  0.0\n",
      "1  2.0  2.0  0.0  0.0\n",
      "2  0.0  3.0  0.0  0.0\n",
      "3  4.0  0.0  4.0  0.0\n",
      "4  5.0  5.0  5.0  5.0\n",
      "\n",
      "DataFrame after filling missing values with the mean of the column:\n",
      "      A         B         C    D\n",
      "0  1.0  3.333333  1.000000  5.0\n",
      "1  2.0  2.000000  3.333333  5.0\n",
      "2  3.0  3.000000  3.333333  5.0\n",
      "3  4.0  3.333333  4.000000  5.0\n",
      "4  5.0  5.000000  5.000000  5.0\n"
     ]
    }
   ],
   "source": [
    "import pandas as pd\n",
    "import numpy as np\n",
    "\n",
    "# Create a DataFrame with missing values\n",
    "data = {\n",
    "    'A': [1, 2, np.nan, 4, 5],\n",
    "    'B': [np.nan, 2, 3, np.nan, 5],\n",
    "    'C': [1, np.nan, np.nan, 4, 5],\n",
    "    'D': [np.nan, np.nan, np.nan, np.nan, 5]\n",
    "}\n",
    "df = pd.DataFrame(data)\n",
    "print(\"Original DataFrame with missing values:\\n\", df)\n",
    "\n",
    "# Remove rows with any missing values\n",
    "df_dropna_rows = df.dropna()\n",
    "print(\"\\nDataFrame after removing rows with any missing values:\\n\", df_dropna_rows)\n",
    "\n",
    "# Remove columns with any missing values\n",
    "df_dropna_cols = df.dropna(axis=1)\n",
    "print(\"\\nDataFrame after removing columns with any missing values:\\n\", df_dropna_cols)\n",
    "\n",
    "# Fill missing values with a specific value (e.g., 0)\n",
    "df_fillna_value = df.fillna(0)\n",
    "print(\"\\nDataFrame after filling missing values with 0:\\n\", df_fillna_value)\n",
    "\n",
    "# Fill missing values with the mean of the column\n",
    "df_fillna_mean = df.fillna(df.mean())\n",
    "print(\"\\nDataFrame after filling missing values with the mean of the column:\\n\", df_fillna_mean)"
   ]
  }
 ],
 "metadata": {
  "kernelspec": {
   "display_name": "base",
   "language": "python",
   "name": "python3"
  },
  "language_info": {
   "codemirror_mode": {
    "name": "ipython",
    "version": 3
   },
   "file_extension": ".py",
   "mimetype": "text/x-python",
   "name": "python",
   "nbconvert_exporter": "python",
   "pygments_lexer": "ipython3",
   "version": "3.11.7"
  }
 },
 "nbformat": 4,
 "nbformat_minor": 2
}
