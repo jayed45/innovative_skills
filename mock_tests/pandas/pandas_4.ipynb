{
 "cells": [
  {
   "cell_type": "code",
   "execution_count": 3,
   "metadata": {},
   "outputs": [
    {
     "name": "stdout",
     "output_type": "stream",
     "text": [
      "                    Id  SepalLengthCm  SepalWidthCm  PetalLengthCm  \\\n",
      "Species                                                              \n",
      "Iris-setosa       25.5          5.006         3.418          1.464   \n",
      "Iris-versicolor   75.5          5.936         2.770          4.260   \n",
      "Iris-virginica   125.5          6.588         2.974          5.552   \n",
      "\n",
      "                 PetalWidthCm  \n",
      "Species                        \n",
      "Iris-setosa             0.244  \n",
      "Iris-versicolor         1.326  \n",
      "Iris-virginica          2.026  \n"
     ]
    }
   ],
   "source": [
    "import pandas as pd\n",
    "\n",
    "# Path to the uploaded CSV file\n",
    "file_path = 'E:\\Programming\\innovative_skills\\mock_tests\\pandas\\Iris.csv' \n",
    "\n",
    "# Read the CSV file into a DataFrame\n",
    "df = pd.read_csv(file_path)\n",
    "\n",
    "# Group the data by 'Species' and calculate the mean for each group\n",
    "grouped_df_mean = df.groupby('Species').mean()\n",
    "\n",
    "# Display the grouped and aggregated DataFrame\n",
    "print(grouped_df_mean)"
   ]
  },
  {
   "cell_type": "code",
   "execution_count": 4,
   "metadata": {},
   "outputs": [
    {
     "name": "stdout",
     "output_type": "stream",
     "text": [
      "                SepalLengthCm      SepalWidthCm      PetalLengthCm         \\\n",
      "                         mean  max         mean  min          mean    sum   \n",
      "Species                                                                     \n",
      "Iris-setosa             5.006  5.8        3.418  2.3         1.464   73.2   \n",
      "Iris-versicolor         5.936  7.0        2.770  2.0         4.260  213.0   \n",
      "Iris-virginica          6.588  7.9        2.974  2.2         5.552  277.6   \n",
      "\n",
      "                PetalWidthCm        \n",
      "                        mean count  \n",
      "Species                             \n",
      "Iris-setosa            0.244    50  \n",
      "Iris-versicolor        1.326    50  \n",
      "Iris-virginica         2.026    50  \n"
     ]
    }
   ],
   "source": [
    "# Group the data by 'Species' and apply multiple aggregate functions\n",
    "aggregated_df = df.groupby('Species').agg({\n",
    "    'SepalLengthCm': ['mean', 'max'],\n",
    "    'SepalWidthCm': ['mean', 'min'],\n",
    "    'PetalLengthCm': ['mean', 'sum'],\n",
    "    'PetalWidthCm': ['mean', 'count']\n",
    "})\n",
    "\n",
    "# Display the grouped and aggregated DataFrame\n",
    "print(aggregated_df)\n"
   ]
  }
 ],
 "metadata": {
  "kernelspec": {
   "display_name": "base",
   "language": "python",
   "name": "python3"
  },
  "language_info": {
   "codemirror_mode": {
    "name": "ipython",
    "version": 3
   },
   "file_extension": ".py",
   "mimetype": "text/x-python",
   "name": "python",
   "nbconvert_exporter": "python",
   "pygments_lexer": "ipython3",
   "version": "3.11.7"
  }
 },
 "nbformat": 4,
 "nbformat_minor": 2
}
