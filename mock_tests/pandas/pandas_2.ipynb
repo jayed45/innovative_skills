{
 "cells": [
  {
   "cell_type": "code",
   "execution_count": 2,
   "metadata": {},
   "outputs": [],
   "source": [
    "import pandas as pd"
   ]
  },
  {
   "cell_type": "code",
   "execution_count": 4,
   "metadata": {},
   "outputs": [
    {
     "name": "stdout",
     "output_type": "stream",
     "text": [
      "   SepalLengthCm  PetalLengthCm\n",
      "0            5.1            1.4\n",
      "1            4.9            1.4\n",
      "2            4.7            1.3\n",
      "3            4.6            1.5\n",
      "4            5.0            1.4\n"
     ]
    }
   ],
   "source": [
    "file_path = 'E:\\Programming\\innovative_skills\\mock_tests\\pandas\\Iris.csv'\n",
    "\n",
    "df = pd.read_csv(file_path)\n",
    "selected_columns = df[['SepalLengthCm', 'PetalLengthCm']]\n",
    "print(selected_columns.head())"
   ]
  }
 ],
 "metadata": {
  "kernelspec": {
   "display_name": "base",
   "language": "python",
   "name": "python3"
  },
  "language_info": {
   "codemirror_mode": {
    "name": "ipython",
    "version": 3
   },
   "file_extension": ".py",
   "mimetype": "text/x-python",
   "name": "python",
   "nbconvert_exporter": "python",
   "pygments_lexer": "ipython3",
   "version": "3.11.7"
  }
 },
 "nbformat": 4,
 "nbformat_minor": 2
}
