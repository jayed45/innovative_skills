{
 "cells": [
  {
   "cell_type": "code",
   "execution_count": 1,
   "metadata": {},
   "outputs": [
    {
     "name": "stdout",
     "output_type": "stream",
     "text": [
      "A    1\n",
      "B    a\n",
      "Name: row1, dtype: object\n",
      "row1    1\n",
      "row2    2\n",
      "row3    3\n",
      "row4    4\n",
      "row5    5\n",
      "Name: A, dtype: int64\n",
      "      A  B\n",
      "row2  2  b\n",
      "row3  3  c\n",
      "A    1\n",
      "B    a\n",
      "Name: row1, dtype: object\n",
      "row1    1\n",
      "row2    2\n",
      "row3    3\n",
      "row4    4\n",
      "row5    5\n",
      "Name: A, dtype: int64\n",
      "      A  B\n",
      "row2  2  b\n",
      "row3  3  c\n",
      "row4  4  d\n"
     ]
    }
   ],
   "source": [
    "import pandas as pd\n",
    "\n",
    "data = {'A': [1, 2, 3, 4, 5],\n",
    "        'B': ['a', 'b', 'c', 'd', 'e']}\n",
    "df = pd.DataFrame(data, index=['row1', 'row2', 'row3', 'row4', 'row5'])\n",
    "\n",
    "print(df.iloc[0])  \n",
    "print(df.iloc[:, 0])  \n",
    "print(df.iloc[1:3, :])\n",
    "\n",
    "print(df.loc['row1'])  \n",
    "print(df.loc[:, 'A'])  \n",
    "print(df.loc['row2':'row4', :]) "
   ]
  },
  {
   "cell_type": "code",
   "execution_count": null,
   "metadata": {},
   "outputs": [],
   "source": []
  }
 ],
 "metadata": {
  "kernelspec": {
   "display_name": "base",
   "language": "python",
   "name": "python3"
  },
  "language_info": {
   "codemirror_mode": {
    "name": "ipython",
    "version": 3
   },
   "file_extension": ".py",
   "mimetype": "text/x-python",
   "name": "python",
   "nbconvert_exporter": "python",
   "pygments_lexer": "ipython3",
   "version": "3.11.7"
  }
 },
 "nbformat": 4,
 "nbformat_minor": 2
}
