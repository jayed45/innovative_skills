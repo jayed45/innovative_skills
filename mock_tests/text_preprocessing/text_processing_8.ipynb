{
 "cells": [
  {
   "cell_type": "code",
   "execution_count": 1,
   "metadata": {},
   "outputs": [
    {
     "name": "stdout",
     "output_type": "stream",
     "text": [
      "Normalized text:  i love this! do you love it to?\n",
      "Tokenized text:  ['i', 'love', 'this', '!', 'do', 'you', 'love', 'it', 'to', '?']\n"
     ]
    }
   ],
   "source": [
    "import re\n",
    "from nltk.tokenize import word_tokenize\n",
    "\n",
    "# Simple text\n",
    "text = \"I loveeeee this! Do you luv it too?\"\n",
    "\n",
    "# Define normalization rules\n",
    "def normalize(text):\n",
    "  # Convert to lowercase\n",
    "  text = text.lower()\n",
    "  # Replace repeated characters (e.g. loveeee -> love)\n",
    "  text = re.sub(r'(.)\\1+', r'\\1', text)\n",
    "  # Replace slang (e.g. luv -> love)\n",
    "  text = re.sub(r'\\bluv\\b', 'love', text)\n",
    "  \n",
    "  return text\n",
    "\n",
    "# Normalize text\n",
    "normalized_text = normalize(text=text)\n",
    "\n",
    "# Tokenize the text\n",
    "tokens = word_tokenize(normalized_text)\n",
    "\n",
    "print(\"Normalized text: \", normalized_text)\n",
    "print(\"Tokenized text: \", tokens)"
   ]
  }
 ],
 "metadata": {
  "kernelspec": {
   "display_name": "base",
   "language": "python",
   "name": "python3"
  },
  "language_info": {
   "codemirror_mode": {
    "name": "ipython",
    "version": 3
   },
   "file_extension": ".py",
   "mimetype": "text/x-python",
   "name": "python",
   "nbconvert_exporter": "python",
   "pygments_lexer": "ipython3",
   "version": "3.11.7"
  }
 },
 "nbformat": 4,
 "nbformat_minor": 2
}
