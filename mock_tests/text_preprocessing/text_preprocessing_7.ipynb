{
 "cells": [
  {
   "cell_type": "code",
   "execution_count": 6,
   "metadata": {},
   "outputs": [
    {
     "name": "stdout",
     "output_type": "stream",
     "text": [
      "Original Text:\n",
      "The price of the book is 45 dollars and it was published in 2020.\n",
      "\n",
      "Text without Numeric Values:\n",
      "The price of the book is  dollars and it was published in .\n"
     ]
    }
   ],
   "source": [
    "import re\n",
    "\n",
    "# Sample text containing numeric values\n",
    "text = \"The price of the book is 45 dollars and it was published in 2020.\"\n",
    "\n",
    "# Use regular expression to remove numeric values\n",
    "clean_text = re.sub(r'\\d+', '', text)\n",
    "\n",
    "print(\"Original Text:\")\n",
    "print(text)\n",
    "print(\"\\nText without Numeric Values:\")\n",
    "print(clean_text)"
   ]
  },
  {
   "cell_type": "code",
   "execution_count": null,
   "metadata": {},
   "outputs": [],
   "source": []
  }
 ],
 "metadata": {
  "kernelspec": {
   "display_name": "base",
   "language": "python",
   "name": "python3"
  },
  "language_info": {
   "codemirror_mode": {
    "name": "ipython",
    "version": 3
   },
   "file_extension": ".py",
   "mimetype": "text/x-python",
   "name": "python",
   "nbconvert_exporter": "python",
   "pygments_lexer": "ipython3",
   "version": "3.11.7"
  }
 },
 "nbformat": 4,
 "nbformat_minor": 2
}
