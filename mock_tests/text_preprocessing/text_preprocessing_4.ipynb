{
 "cells": [
  {
   "cell_type": "code",
   "execution_count": 3,
   "metadata": {},
   "outputs": [
    {
     "name": "stdout",
     "output_type": "stream",
     "text": [
      "Original Text:\n",
      "Hello, world! This is an example text with punctuation.http://example.com.\n",
      "\n",
      "Text without Punctuation:\n",
      "Hello world This is an example text with punctuation\n"
     ]
    },
    {
     "name": "stderr",
     "output_type": "stream",
     "text": [
      "[nltk_data] Downloading package punkt to\n",
      "[nltk_data]     C:\\Users\\ASUS\\AppData\\Roaming\\nltk_data...\n",
      "[nltk_data]   Package punkt is already up-to-date!\n"
     ]
    }
   ],
   "source": [
    "import nltk\n",
    "import re\n",
    "from nltk.tokenize import word_tokenize\n",
    "import string\n",
    "\n",
    "nltk.download('punkt')\n",
    "\n",
    "# Sample text with punctuation\n",
    "text = \"Hello, world! This is an example text with punctuation.http://example.com.\"\n",
    "url_pattern = r\"http\\S+|www\\S+\"\n",
    "puntuation_pattern = r\"[^a-zA-Z0-9\\s]\"\n",
    "\n",
    "clean_text = re.sub(url_pattern, '', text)\n",
    "clean_text = re.sub(puntuation_pattern, '', clean_text)\n",
    "\n",
    "# Tokenize the text\n",
    "tokens = word_tokenize(text)\n",
    "\n",
    "# way-2:\n",
    "# # Remove punctuation\n",
    "# tokens_no_punct = [token for token in tokens if token not in string.punctuation]\n",
    "# # Reconstruct the text without punctuation\n",
    "# clean_text = ' '.join(tokens_no_punct)\n",
    "\n",
    "print(\"Original Text:\")\n",
    "print(text)\n",
    "print(\"\\nText without Punctuation:\")\n",
    "print(clean_text)\n"
   ]
  },
  {
   "cell_type": "code",
   "execution_count": null,
   "metadata": {},
   "outputs": [],
   "source": []
  }
 ],
 "metadata": {
  "kernelspec": {
   "display_name": "base",
   "language": "python",
   "name": "python3"
  },
  "language_info": {
   "codemirror_mode": {
    "name": "ipython",
    "version": 3
   },
   "file_extension": ".py",
   "mimetype": "text/x-python",
   "name": "python",
   "nbconvert_exporter": "python",
   "pygments_lexer": "ipython3",
   "version": "3.11.7"
  }
 },
 "nbformat": 4,
 "nbformat_minor": 2
}
